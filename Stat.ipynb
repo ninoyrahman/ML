{
 "cells": [
  {
   "cell_type": "code",
   "execution_count": 2,
   "id": "f8c89e8a",
   "metadata": {
    "code_folding": [
     0
    ]
   },
   "outputs": [
    {
     "data": {
      "text/html": [
       "<style>.container { width:100% !important; }</style>"
      ],
      "text/plain": [
       "<IPython.core.display.HTML object>"
      ]
     },
     "metadata": {},
     "output_type": "display_data"
    }
   ],
   "source": [
    "# setup\n",
    "import io\n",
    "import base64\n",
    "import sys\n",
    "sys.path.append('/u/nrahman/workspace/nada/branches/pynada/')\n",
    "%matplotlib inline\n",
    "#%matplotlib notebook\n",
    "import matplotlib.pyplot as plt\n",
    "from mpl_toolkits.axes_grid1.axes_divider import make_axes_locatable\n",
    "import matplotlib as mpl\n",
    "import numpy as np\n",
    "import h5py\n",
    "import scipy as sp\n",
    "import pandas as pd\n",
    "import sklearn as sk \n",
    "\n",
    "%load_ext autoreload\n",
    "%autoreload 2\n",
    "\n",
    "from IPython.core.display import display, HTML\n",
    "display(HTML(\"<style>.container { width:100% !important; }</style>\"))\n",
    "\n",
    "mpl.rcParams['text.usetex'] = 'True'\n",
    "mpl.rcParams['axes.grid'] = False\n",
    "mpl.rcParams['xtick.top'] = True\n",
    "mpl.rcParams['xtick.bottom'] = True\n",
    "mpl.rcParams['ytick.left'] = True\n",
    "mpl.rcParams['ytick.right'] = True\n",
    "mpl.rcParams['xtick.minor.visible'] = True\n",
    "mpl.rcParams['ytick.minor.visible'] = True\n",
    "mpl.rcParams['xtick.direction'] = 'in'\n",
    "mpl.rcParams['ytick.direction'] = 'in'\n",
    "mpl.rcParams['xtick.major.size'] = 14\n",
    "mpl.rcParams['ytick.major.size'] = 14\n",
    "mpl.rcParams['xtick.minor.size'] = 7\n",
    "mpl.rcParams['ytick.minor.size'] = 7\n",
    "mpl.rcParams['xtick.major.width'] = 2\n",
    "mpl.rcParams['ytick.major.width'] = 2\n",
    "mpl.rcParams['xtick.minor.width'] = 1.2\n",
    "mpl.rcParams['ytick.minor.width'] = 1.2\n",
    "mpl.rcParams['axes.labelsize'] = 30\n",
    "mpl.rcParams['xtick.labelsize'] = 30\n",
    "mpl.rcParams['ytick.labelsize'] = 30\n",
    "mpl.rcParams['legend.loc'] = 'best'\n",
    "mpl.rcParams['legend.fontsize'] = 20\n",
    "mpl.rcParams['lines.linewidth'] = 4\n",
    "mpl.rcParams['pdf.fonttype'] = 42\n",
    "mpl.rcParams['font.serif'] = 'Computer Modern'\n",
    "\n",
    "blue = '#1f77b4'\n",
    "orange = '#ff7f0e'\n",
    "green = '#2ca02c'\n",
    "red = '#ad494a'\n",
    "violet = '#9467bd'\n",
    "brown = '#8c564b'"
   ]
  },
  {
   "cell_type": "code",
   "execution_count": 10,
   "id": "8bc308d3",
   "metadata": {
    "code_folding": [
     0
    ]
   },
   "outputs": [],
   "source": [
    "# import\n",
    "# import scikit_posthocs as sp\n",
    "import numpy as np\n",
    "from scipy import stats\n",
    "import pandas as pd\n",
    "pd.options.display.float_format = '{:,.4f}'.format"
   ]
  },
  {
   "cell_type": "code",
   "execution_count": 14,
   "id": "7a0964be",
   "metadata": {
    "code_folding": [
     0
    ]
   },
   "outputs": [],
   "source": [
    "# functions\n",
    "def check_normality(data):\n",
    "    test_stat_normality, p_value_normality=stats.shapiro(data)\n",
    "    print(\"p value:%.4f\" % p_value_normality)\n",
    "    if p_value_normality <0.05:\n",
    "        print(\"Reject null hypothesis >> The data is not normally distributed\")\n",
    "    else:\n",
    "        print(\"Fail to reject null hypothesis >> The data is normally distributed\")\n",
    "        \n",
    "def check_variance_homogeneity(group1, group2):\n",
    "    test_stat_var, p_value_var= stats.levene(group1,group2)\n",
    "    print(\"p value:%.4f\" % p_value_var)\n",
    "    if p_value_var <0.05:\n",
    "        print(\"Reject null hypothesis >> The variances of the samples are different.\")\n",
    "    else:\n",
    "        print(\"Fail to reject null hypothesis >> The variances of the samples are same.\")"
   ]
  },
  {
   "cell_type": "code",
   "execution_count": 16,
   "id": "c5225bdc",
   "metadata": {
    "code_folding": [
     0
    ]
   },
   "outputs": [
    {
     "name": "stdout",
     "output_type": "stream",
     "text": [
      "p value:0.6556\n",
      "Fail to reject null hypothesis >> The data is normally distributed\n",
      "p value:0.0803\n",
      "Fail to reject null hypothesis >> The data is normally distributed\n",
      "p value:0.8149\n",
      "Fail to reject null hypothesis >> The variances of the samples are same.\n",
      "p value:0.00753598\n",
      "since the hypothesis is one sided >> use p_value/2 >> p_value_one_sided:0.0038\n",
      "Reject null hypothesis\n"
     ]
    }
   ],
   "source": [
    "# test 1\n",
    "from scipy import stats\n",
    "sync = np.array([94. , 84.9, 82.6, 69.5, 80.1, 79.6, 81.4, 77.8, 81.7, 78.8, 73.2,\n",
    "       87.9, 87.9, 93.5, 82.3, 79.3, 78.3, 71.6, 88.6, 74.6, 74.1, 80.6])\n",
    "asyncr =np.array([77.1, 71.7, 91. , 72.2, 74.8, 85.1, 67.6, 69.9, 75.3, 71.7, 65.7, 72.6, 71.5, 78.2])\n",
    "\n",
    "check_normality(sync)\n",
    "check_normality(asyncr)\n",
    "\n",
    "check_variance_homogeneity(sync, asyncr)\n",
    "\n",
    "ttest, p_value = stats.ttest_ind(sync, asyncr)\n",
    "print(\"p value:%.8f\" % p_value)\n",
    "print(\"since the hypothesis is one sided >> use p_value/2 >> p_value_one_sided:%.4f\" %(p_value/2))\n",
    "if p_value/2 <0.05:\n",
    "    print(\"Reject null hypothesis\")\n",
    "else:\n",
    "    print(\"Fail to reject null hypothesis\") "
   ]
  },
  {
   "cell_type": "code",
   "execution_count": 29,
   "id": "f08582d7",
   "metadata": {
    "code_folding": [
     0
    ]
   },
   "outputs": [
    {
     "name": "stdout",
     "output_type": "stream",
     "text": [
      "p value:0.4694\n",
      "Fail to reject null hypothesis >> The data is normally distributed\n",
      "p value:0.8879\n",
      "Fail to reject null hypothesis >> The data is normally distributed\n",
      "p value:0.7973\n",
      "Fail to reject null hypothesis >> The data is normally distributed\n",
      "p value:0.7673\n",
      "Fail to reject null hypothesis >> The variances of the samples are same.\n",
      "p value:0.000000\n",
      "Reject null hypothesis\n",
      "p value:0.04315143\n",
      "p value:0.00000016\n",
      "p value:0.00000117\n"
     ]
    }
   ],
   "source": [
    "# test-2\n",
    "only_breast=np.array([794.1, 716.9, 993. , 724.7, 760.9, 908.2, 659.3 , 690.8, 768.7,\n",
    "       717.3 , 630.7, 729.5, 714.1, 810.3, 583.5, 679.9, 865.1])\n",
    "\n",
    "only_formula=np.array([ 898.8,  881.2,  940.2,  966.2,  957.5, 1061.7, 1046.2,  980.4,\n",
    "        895.6,  919.7, 1074.1,  952.5,  796.3,  859.6,  871.1 , 1047.5,\n",
    "        919.1 , 1160.5,  996.9])\n",
    "\n",
    "both=np.array([976.4, 656.4, 861.2, 706.8, 718.5, 717.1, 759.8, 894.6, 867.6,\n",
    "       805.6, 765.4, 800.3, 789.9, 875.3, 740. , 799.4, 790.3, 795.2 ,\n",
    "       823.6, 818.7, 926.8, 791.7, 948.3])\n",
    "\n",
    "check_normality(only_breast)\n",
    "check_normality(only_formula)\n",
    "check_normality(both)\n",
    "\n",
    "stat, pvalue_levene= stats.levene(only_breast,only_formula,both)\n",
    "\n",
    "print(\"p value:%.4f\" % pvalue_levene)\n",
    "if pvalue_levene <0.05:\n",
    "    print(\"Reject null hypothesis >> The variances of the samples are different.\")\n",
    "else:\n",
    "    print(\"Fail to reject null hypothesis >> The variances of the samples are same.\")\n",
    "    \n",
    "F, p_value = stats.f_oneway(only_breast,only_formula,both)\n",
    "print(\"p value:%.6f\" % p_value)\n",
    "if p_value <0.05:\n",
    "    print(\"Reject null hypothesis\")\n",
    "else:\n",
    "    print(\"Fail to reject null hypothesis\")\n",
    "    \n",
    "\n",
    "ttest, p_value = stats.ttest_ind(only_breast, both)\n",
    "print(\"p value:%.8f\" % p_value)\n",
    "ttest, p_value = stats.ttest_ind(only_breast, only_formula)\n",
    "print(\"p value:%.8f\" % p_value)\n",
    "ttest, p_value = stats.ttest_ind(only_formula, both)\n",
    "print(\"p value:%.8f\" % p_value)"
   ]
  },
  {
   "cell_type": "code",
   "execution_count": 31,
   "id": "aa72d5db",
   "metadata": {
    "code_folding": [
     0
    ]
   },
   "outputs": [
    {
     "name": "stdout",
     "output_type": "stream",
     "text": [
      "p value:0.0046\n",
      "Reject null hypothesis >> The data is not normally distributed\n",
      "p value:0.0005\n",
      "Reject null hypothesis >> The data is not normally distributed\n",
      "p value:0.5410\n",
      "Fail to reject null hypothesis >> The variances of the samples are same.\n",
      "p-value:0.8226\n",
      "Fail to recejt null hypothesis\n"
     ]
    }
   ],
   "source": [
    "# test-3\n",
    "test_team=np.array([6.2,  7.1,  1.5,  2,3 ,  2,  1.5,  6.1,  2.4,  2.3, 12.4,  1.8,  5.3,  3.1, 9.4,  2.3, 4.1])\n",
    "developer_team=np.array([2.3,  2.1,  1.4,  2.0, 8.7,  2.2,  3.1,  4.2,  3.6, 2.5,  3.1,  6.2, 12.1,  3.9,  2.2, 1.2 ,3.4])\n",
    "\n",
    "check_normality(test_team)\n",
    "check_normality(developer_team)\n",
    "\n",
    "check_variance_homogeneity(test_team, developer_team)\n",
    "\n",
    "ttest,pvalue = stats.mannwhitneyu(test_team,developer_team, alternative=\"two-sided\")\n",
    "print(\"p-value:%.4f\" % pvalue)\n",
    "if pvalue <0.05:\n",
    "    print(\"Reject null hypothesis\")\n",
    "else:\n",
    "    print(\"Fail to recejt null hypothesis\")"
   ]
  },
  {
   "cell_type": "code",
   "execution_count": 34,
   "id": "1baebe6b",
   "metadata": {
    "code_folding": [
     0
    ]
   },
   "outputs": [
    {
     "name": "stdout",
     "output_type": "stream",
     "text": [
      "p value:0.0285\n",
      "Reject null hypothesis >> The data is not normally distributed\n",
      "p value:0.4156\n",
      "Fail to reject null hypothesis >> The data is normally distributed\n",
      "p value:0.1716\n",
      "Fail to reject null hypothesis >> The data is normally distributed\n",
      "p value:0.0012\n",
      "Reject null hypothesis >> The variances of the samples are different.\n",
      "p value:0.000015\n",
      "Reject null hypothesis\n"
     ]
    }
   ],
   "source": [
    "# test-4\n",
    "youtube=np.array([1913, 1879, 1939, 2146, 2040, 2127, 2122, 2156, 2036, 1974, 1956,\n",
    "       2146, 2151, 1943, 2125])\n",
    "       \n",
    "instagram =  np.array([2305., 2355., 2203., 2231., 2185., 2420., 2386., 2410., 2340.,\n",
    "       2349., 2241., 2396., 2244., 2267., 2281.])\n",
    "       \n",
    "facebook = np.array([2133., 2522., 2124., 2551., 2293., 2367., 2460., 2311., 2178.,\n",
    "       2113., 2048., 2443., 2265., 2095., 2528.]) \n",
    "\n",
    "check_normality(youtube)\n",
    "check_normality(instagram)\n",
    "check_normality(facebook)\n",
    "\n",
    "stat, pvalue_levene= stats.levene(youtube,instagram,facebook)\n",
    "\n",
    "print(\"p value:%.4f\" % pvalue_levene)\n",
    "if pvalue_levene <0.05:\n",
    "    print(\"Reject null hypothesis >> The variances of the samples are different.\")\n",
    "else:\n",
    "    print(\"Fail to reject null hypothesis >> The variances of the samples are same.\")\n",
    "\n",
    "F, p_value = stats.kruskal(youtube, instagram, facebook)\n",
    "print(\"p value:%.6f\" % p_value)\n",
    "if p_value <0.05:\n",
    "    print(\"Reject null hypothesis\")\n",
    "else:\n",
    "    print(\"Fail to reject null hypothesis\")"
   ]
  },
  {
   "cell_type": "code",
   "execution_count": 46,
   "id": "0a9bcc4f",
   "metadata": {
    "code_folding": [
     0
    ]
   },
   "outputs": [
    {
     "name": "stdout",
     "output_type": "stream",
     "text": [
      "p value:0.1635\n",
      "Fail to reject null hypothesis >> The data is normally distributed\n",
      "p value:0.1003\n",
      "Fail to reject null hypothesis >> The data is normally distributed\n",
      "p value:0.000008 one tailed p value:0.000004\n",
      "Reject null hypothesis\n"
     ]
    }
   ],
   "source": [
    "# test-5\n",
    "test_results_before_diet=np.array([224, 235, 223, 253, 253, 224, 244, 225, 259, 220, 242, 240, 239, 229, 276, 254, 237, 227])\n",
    "test_results_after_diet=np.array([198, 195, 213, 190, 246, 206, 225, 199, 214, 210, 188, 205, 200, 220, 190, 199, 191, 218])\n",
    "\n",
    "check_normality(test_results_before_diet)\n",
    "check_normality(test_results_after_diet)\n",
    "\n",
    "test_stat, p_value_paired = stats.ttest_rel(test_results_before_diet, test_results_after_diet)\n",
    "print(\"p value:%.6f\" % p_value_paired , \"one tailed p value:%.6f\" %(p_value_paired/2))\n",
    "if p_value_paired <0.05:\n",
    "    print(\"Reject null hypothesis\")\n",
    "else:\n",
    "    print(\"Fail to reject null hypothesis\")"
   ]
  },
  {
   "cell_type": "code",
   "execution_count": 38,
   "id": "427b513d",
   "metadata": {
    "code_folding": [
     0
    ]
   },
   "outputs": [
    {
     "name": "stdout",
     "output_type": "stream",
     "text": [
      "p value:0.0304\n",
      "Reject null hypothesis >> The data is not normally distributed\n",
      "p value:0.9587\n",
      "Fail to reject null hypothesis >> The data is normally distributed\n",
      "p value:0.0001\n",
      "Reject null hypothesis >> The variances of the samples are different.\n",
      "p-value:0.000214 >> one_tailed_pval:0.000107\n",
      "one sided pvalue:0.000107\n",
      "Reject null hypothesis\n"
     ]
    }
   ],
   "source": [
    "# test-6\n",
    "piedpiper=np.array([4.57, 4.55, 5.47, 4.67, 5.41, 5.55, 5.53, 5.63, 3.86, 3.97, 5.44, 3.93, 5.31, 5.17, 4.39, 4.28, 5.25])\n",
    "endframe = np.array([4.27, 3.93, 4.01, 4.07, 3.87, 4.  , 4.  , 3.72, 4.16, 4.1 , 3.9 , 3.97, 4.08, 3.96, 3.96, 3.77, 4.09])\n",
    "\n",
    "check_normality(piedpiper)\n",
    "check_normality(endframe)\n",
    "\n",
    "stat, pvalue_levene= stats.levene(piedpiper,endframe)\n",
    "\n",
    "print(\"p value:%.4f\" % pvalue_levene)\n",
    "if pvalue_levene <0.05:\n",
    "    print(\"Reject null hypothesis >> The variances of the samples are different.\")\n",
    "else:\n",
    "    print(\"Fail to reject null hypothesis >> The variances of the samples are same.\")\n",
    "    \n",
    "test,pvalue = stats.wilcoxon(endframe, piedpiper) ##alternative default two sided\n",
    "print(\"p-value:%.6f\" %pvalue, \">> one_tailed_pval:%.6f\" %(pvalue/2))\n",
    "\n",
    "test,one_sided_pvalue = stats.wilcoxon(endframe, piedpiper, alternative=\"less\")\n",
    "print(\"one sided pvalue:%.6f\" %(one_sided_pvalue))\n",
    "if pvalue < 0.05:\n",
    "    print(\"Reject null hypothesis\")\n",
    "else:\n",
    "    print(\"Fail to recejt null hypothesis\")"
   ]
  },
  {
   "cell_type": "code",
   "execution_count": 42,
   "id": "c812bac9",
   "metadata": {
    "code_folding": [
     0
    ]
   },
   "outputs": [
    {
     "name": "stdout",
     "output_type": "stream",
     "text": [
      "p value:0.3076\n",
      "Fail to reject null hypothesis >> The data is normally distributed\n",
      "p value:0.0515\n",
      "Fail to reject null hypothesis >> The data is normally distributed\n",
      "p value:0.0016\n",
      "Reject null hypothesis >> The data is not normally distributed\n",
      "p value:0.1953\n",
      "Fail to reject null hypothesis >> The variances of the samples are same.\n",
      "p value:0.0015\n",
      "Reject null hypothesis\n",
      "89.35 89.49 90.49\n",
      "one sided pvalue:0.003906\n",
      "Reject null hypothesis\n",
      "one sided pvalue:0.003906\n",
      "Reject null hypothesis\n"
     ]
    }
   ],
   "source": [
    "# test-7\n",
    "method_A = np.array([89.8, 89.9, 88.6, 88.7, 89.6, 89.7, 89.2, 89.3])\n",
    "method_B = np.array([90.0, 90.1, 88.8, 88.9, 89.9, 90.0, 89.0, 89.2])\n",
    "method_C = np.array([91.5, 90.7, 90.3, 90.4, 90.2, 90.3, 90.2, 90.3])\n",
    "\n",
    "check_normality(method_A)\n",
    "check_normality(method_B)\n",
    "check_normality(method_C)\n",
    "\n",
    "\n",
    "stat, pvalue_levene= stats.levene(method_A, method_B, method_C)\n",
    "\n",
    "print(\"p value:%.4f\" % pvalue_levene)\n",
    "if pvalue_levene <0.05:\n",
    "    print(\"Reject null hypothesis >> The variances of the samples are different.\")\n",
    "else:\n",
    "    print(\"Fail to reject null hypothesis >> The variances of the samples are same.\")\n",
    "    \n",
    "test_stat,p_value = stats.friedmanchisquare(method_A,method_B, method_C)\n",
    "print(\"p value:%.4f\" % p_value)\n",
    "if p_value <0.05:\n",
    "    print(\"Reject null hypothesis\")\n",
    "else:\n",
    "    print(\"Fail to reject null hypothesis\")\n",
    "    \n",
    "print(np.round(np.mean(method_A),2), np.round(np.mean(method_B),2), np.round(np.mean(method_C),2))\n",
    "\n",
    "test,one_sided_pvalue = stats.wilcoxon(method_C, method_A, alternative=\"greater\")\n",
    "print(\"one sided pvalue:%.6f\" %(one_sided_pvalue))\n",
    "if pvalue < 0.05:\n",
    "    print(\"Reject null hypothesis\")\n",
    "else:\n",
    "    print(\"Fail to recejt null hypothesis\")\n",
    "    \n",
    "test,one_sided_pvalue = stats.wilcoxon(method_C, method_B, alternative=\"greater\")\n",
    "print(\"one sided pvalue:%.6f\" %(one_sided_pvalue))\n",
    "if pvalue < 0.05:\n",
    "    print(\"Reject null hypothesis\")\n",
    "else:\n",
    "    print(\"Fail to recejt null hypothesis\")"
   ]
  },
  {
   "cell_type": "code",
   "execution_count": 45,
   "id": "ffbb358e",
   "metadata": {
    "code_folding": [
     0
    ]
   },
   "outputs": [
    {
     "name": "stdout",
     "output_type": "stream",
     "text": [
      "expected frequencies:\n",
      "  [[ 43.21  24.74  28.23  32.41 101.41]\n",
      " [ 80.79  46.26  52.77  60.59 189.59]]\n",
      "degrees of freedom: 4\n",
      "test stat :7.0942\n",
      "p value:0.1310\n",
      "critical stat:13.2767\n"
     ]
    }
   ],
   "source": [
    "# test-8\n",
    "from scipy.stats import chi2_contingency\n",
    "\n",
    "obs =np.array([[53, 23, 30, 36, 88],[71, 48, 51, 57, 203]])\n",
    "chi2, p, dof, ex = chi2_contingency(obs, correction=False)\n",
    "\n",
    "print(\"expected frequencies:\\n \", np.round(ex,2))\n",
    "print(\"degrees of freedom:\", dof)\n",
    "print(\"test stat :%.4f\" % chi2)\n",
    "print(\"p value:%.4f\" % p)\n",
    "\n",
    "## calculate critical stat\n",
    "from scipy.stats import chi2\n",
    "alpha = 0.01\n",
    "df = (5-1)*(2-1)\n",
    "critical_stat = chi2.ppf((1-alpha), df)\n",
    "print(\"critical stat:%.4f\" % critical_stat)"
   ]
  },
  {
   "cell_type": "code",
   "execution_count": 52,
   "id": "4cabd7af",
   "metadata": {
    "code_folding": [
     0
    ]
   },
   "outputs": [
    {
     "name": "stdout",
     "output_type": "stream",
     "text": [
      "stat=0.895, p=0.193\n",
      "Probably Gaussian\n",
      "stat=3.392, p=0.183\n",
      "Probably Gaussian\n",
      "stat=0.424\n",
      "Probably Gaussian at the 15.0% level\n",
      "Probably Gaussian at the 10.0% level\n",
      "Probably Gaussian at the 5.0% level\n",
      "Probably Gaussian at the 2.5% level\n",
      "Probably Gaussian at the 1.0% level\n"
     ]
    }
   ],
   "source": [
    "# Tests whether a data sample has a Gaussian distribution.\n",
    "from scipy.stats import shapiro, normaltest, anderson\n",
    "\n",
    "data = [0.873, 2.817, 0.121, -0.945, -0.055, -1.436, 0.360, -1.478, -1.637, -1.869]\n",
    "\n",
    "# Example of the Shapiro-Wilk Normality Test\n",
    "stat, p = shapiro(data)\n",
    "print('stat=%.3f, p=%.3f' % (stat, p))\n",
    "if p > 0.05:\n",
    "    print('Probably Gaussian')\n",
    "else:\n",
    "    print('Probably not Gaussian')\n",
    "\n",
    "# Example of the D'Agostino's K^2 Normality Test\n",
    "stat, p = normaltest(data)\n",
    "print('stat=%.3f, p=%.3f' % (stat, p))\n",
    "if p > 0.05:\n",
    "\tprint('Probably Gaussian')\n",
    "else:\n",
    "\tprint('Probably not Gaussian')\n",
    "    \n",
    "# Example of the Anderson-Darling Normality Test\n",
    "result = anderson(data)\n",
    "print('stat=%.3f' % (result.statistic))\n",
    "for i in range(len(result.critical_values)):\n",
    "\tsl, cv = result.significance_level[i], result.critical_values[i]\n",
    "\tif result.statistic < cv:\n",
    "\t\tprint('Probably Gaussian at the %.1f%% level' % (sl))\n",
    "\telse:\n",
    "\t\tprint('Probably not Gaussian at the %.1f%% level' % (sl))"
   ]
  },
  {
   "cell_type": "code",
   "execution_count": 54,
   "id": "48d8e562",
   "metadata": {
    "code_folding": [
     0
    ]
   },
   "outputs": [
    {
     "name": "stdout",
     "output_type": "stream",
     "text": [
      "stat=0.688, p=0.028\n",
      "Probably dependent\n",
      "stat=0.855, p=0.002\n",
      "Probably dependent\n",
      "stat=0.733, p=0.002\n",
      "Probably dependent\n",
      "stat=0.272, p=0.873\n",
      "Probably independent\n"
     ]
    }
   ],
   "source": [
    "# Correlation Tests\n",
    "# This section lists statistical tests that you can use to check if two samples are related\n",
    "from scipy.stats import pearsonr\n",
    "from scipy.stats import spearmanr\n",
    "from scipy.stats import kendalltau\n",
    "from scipy.stats import chi2_contingency\n",
    "\n",
    "data1 = [0.873, 2.817, 0.121, -0.945, -0.055, -1.436, 0.360, -1.478, -1.637, -1.869]\n",
    "data2 = [0.353, 3.517, 0.125, -7.545, -0.555, -1.536, 3.350, -1.578, -3.537, -1.579]\n",
    "\n",
    "# Example of the Pearson's Correlation test\n",
    "# Tests whether two samples have a linear relationship.\n",
    "stat, p = pearsonr(data1, data2)\n",
    "print('stat=%.3f, p=%.3f' % (stat, p))\n",
    "if p > 0.05:\n",
    "\tprint('Probably independent')\n",
    "else:\n",
    "\tprint('Probably dependent')\n",
    "    \n",
    "# Example of the Spearman's Rank Correlation Test\n",
    "# Tests whether two samples have a monotonic relationship.\n",
    "stat, p = spearmanr(data1, data2)\n",
    "print('stat=%.3f, p=%.3f' % (stat, p))\n",
    "if p > 0.05:\n",
    "\tprint('Probably independent')\n",
    "else:\n",
    "\tprint('Probably dependent')\n",
    "    \n",
    "# Example of the Kendall's Rank Correlation Test\n",
    "# Tests whether two samples have a monotonic relationship.\n",
    "stat, p = kendalltau(data1, data2)\n",
    "print('stat=%.3f, p=%.3f' % (stat, p))\n",
    "if p > 0.05:\n",
    "\tprint('Probably independent')\n",
    "else:\n",
    "\tprint('Probably dependent')\n",
    "    \n",
    "# Example of the Chi-Squared Test\n",
    "# Tests whether two categorical variables are related or independent.\n",
    "table = [[10, 20, 30],[6,  9,  17]]\n",
    "stat, p, dof, expected = chi2_contingency(table)\n",
    "print('stat=%.3f, p=%.3f' % (stat, p))\n",
    "if p > 0.05:\n",
    "\tprint('Probably independent')\n",
    "else:\n",
    "\tprint('Probably dependent')"
   ]
  },
  {
   "cell_type": "code",
   "execution_count": 56,
   "id": "ca86d69e",
   "metadata": {
    "code_folding": [
     0
    ]
   },
   "outputs": [
    {
     "name": "stdout",
     "output_type": "stream",
     "text": [
      "stat=1.496, p=0.998\n",
      "Probably Stationary\n",
      "stat=0.410, p=0.073\n",
      "Probably Stationary\n"
     ]
    },
    {
     "name": "stderr",
     "output_type": "stream",
     "text": [
      "/mpcdf/soft/SLE_15/packages/x86_64/anaconda/3/2021.11/lib/python3.9/site-packages/statsmodels/tsa/stattools.py:1875: FutureWarning: The behavior of using nlags=None will change in release 0.13.Currently nlags=None is the same as nlags=\"legacy\", and so a sample-size lag length is used. After the next release, the default will change to be the same as nlags=\"auto\" which uses an automatic lag length selection method. To silence this warning, either use \"auto\" or \"legacy\"\n",
      "  warnings.warn(msg, FutureWarning)\n"
     ]
    }
   ],
   "source": [
    "# Stationary Tests\n",
    "# This section lists statistical tests that you can use to check if a time series is stationary or not.\n",
    "from statsmodels.tsa.stattools import adfuller\n",
    "from statsmodels.tsa.stattools import kpss\n",
    "\n",
    "data = [0, 1, 2, 3, 4, 5, 6, 7, 8, 9]\n",
    "\n",
    "# Augmented Dickey-Fuller Unit Root Test\n",
    "# Tests whether a time series has a unit root, e.g. has a trend or more generally is autoregressive.\n",
    "# Example of the Augmented Dickey-Fuller unit root test\n",
    "stat, p, lags, obs, crit, t = adfuller(data)\n",
    "print('stat=%.3f, p=%.3f' % (stat, p))\n",
    "if p > 0.05:\n",
    "\tprint('Probably Stationary')\n",
    "else:\n",
    "\tprint('Probably not Stationary')\n",
    "    \n",
    "# Kwiatkowski-Phillips-Schmidt-Shin\n",
    "# Tests whether a time series is trend stationary or not.\n",
    "# Example of the Kwiatkowski-Phillips-Schmidt-Shin test\n",
    "stat, p, lags, crit = kpss(data)\n",
    "print('stat=%.3f, p=%.3f' % (stat, p))\n",
    "if p > 0.05:\n",
    "\tprint('Probably Stationary')\n",
    "else:\n",
    "\tprint('Probably not Stationary')"
   ]
  },
  {
   "cell_type": "code",
   "execution_count": 57,
   "id": "3666108a",
   "metadata": {
    "code_folding": [
     0
    ]
   },
   "outputs": [
    {
     "name": "stdout",
     "output_type": "stream",
     "text": [
      "stat=-0.326, p=0.748\n",
      "Probably the same distribution\n",
      "stat=-0.334, p=0.746\n",
      "Probably the same distribution\n",
      "stat=0.096, p=0.908\n",
      "Probably the same distribution\n"
     ]
    }
   ],
   "source": [
    "# Parametric Statistical Hypothesis Tests\n",
    "# This section lists statistical tests that you can use to compare data samples.\n",
    "from scipy.stats import ttest_ind\n",
    "from scipy.stats import ttest_rel\n",
    "from scipy.stats import f_oneway\n",
    "\n",
    "data1 = [0.873, 2.817, 0.121, -0.945, -0.055, -1.436, 0.360, -1.478, -1.637, -1.869]\n",
    "data2 = [1.142, -0.432, -0.938, -0.729, -0.846, -0.157, 0.500, 1.183, -1.075, -0.169]\n",
    "\n",
    "# Student’s t-test\n",
    "# Tests whether the means of two independent samples are significantly different.\n",
    "# Example of the Student's t-test\n",
    "stat, p = ttest_ind(data1, data2)\n",
    "print('stat=%.3f, p=%.3f' % (stat, p))\n",
    "if p > 0.05:\n",
    "\tprint('Probably the same distribution')\n",
    "else:\n",
    "\tprint('Probably different distributions')\n",
    "    \n",
    "# Paired Student’s t-test\n",
    "# Tests whether the means of two paired samples are significantly different.\n",
    "# Example of the Paired Student's t-test\n",
    "stat, p = ttest_rel(data1, data2)\n",
    "print('stat=%.3f, p=%.3f' % (stat, p))\n",
    "if p > 0.05:\n",
    "\tprint('Probably the same distribution')\n",
    "else:\n",
    "\tprint('Probably different distributions')\n",
    "    \n",
    "# Analysis of Variance Test (ANOVA)\n",
    "# Tests whether the means of two or more independent samples are significantly different.\n",
    "# Example of the Analysis of Variance Test\n",
    "data1 = [0.873, 2.817, 0.121, -0.945, -0.055, -1.436, 0.360, -1.478, -1.637, -1.869]\n",
    "data2 = [1.142, -0.432, -0.938, -0.729, -0.846, -0.157, 0.500, 1.183, -1.075, -0.169]\n",
    "data3 = [-0.208, 0.696, 0.928, -1.148, -0.213, 0.229, 0.137, 0.269, -0.870, -1.204]\n",
    "stat, p = f_oneway(data1, data2, data3)\n",
    "print('stat=%.3f, p=%.3f' % (stat, p))\n",
    "if p > 0.05:\n",
    "\tprint('Probably the same distribution')\n",
    "else:\n",
    "\tprint('Probably different distributions')"
   ]
  },
  {
   "cell_type": "code",
   "execution_count": 61,
   "id": "850ee827",
   "metadata": {},
   "outputs": [
    {
     "name": "stdout",
     "output_type": "stream",
     "text": [
      "stat=-0.326, p=0.748\n",
      "Cant reject H0, Probably the same distribution\n",
      "18 -2.10092204024096 2.10092204024096 -0.3256156287495794\n",
      "2.1154349922139857\n"
     ]
    }
   ],
   "source": [
    "# t-test\n",
    "from scipy.stats import ttest_ind, t\n",
    "\n",
    "data1 = np.array([0.873, 2.817, 0.121, -0.945, -0.055, -1.436, 0.360, -1.478, -1.637, -1.869])\n",
    "data2 = np.array([1.142, -0.432, -0.938, -0.729, -0.846, -0.157, 0.500, 1.183, -1.075, -0.169])\n",
    "\n",
    "# Student’s t-test\n",
    "# Tests whether the means of two independent samples are significantly different.\n",
    "# Example of the Student's t-test\n",
    "stat, p = ttest_ind(data1, data2)\n",
    "print('stat=%.3f, p=%.3f' % (stat, p))\n",
    "if p > 0.05:\n",
    "\tprint('Cant reject H0, Probably the same distribution')\n",
    "else:\n",
    "\tprint('Reject H0, Probably different distributions')\n",
    "    \n",
    "n1 = data1.size\n",
    "n2 = data2.size\n",
    "x1 = data1.mean()\n",
    "x2 = data2.mean()\n",
    "s1 = np.std(data1)\n",
    "s2 = np.std(data2)\n",
    "    \n",
    "degf = n1 + n2 - 2\n",
    "[tcrit1, tcrit2] = t.interval(alpha=0.95, df=degf)\n",
    "print(degf, tcrit1, tcrit2, stat)\n",
    "sp = np.sqrt(((n1-1)*s1**2+(n2-1)*s2**2)/degf)\n",
    "KI_low  = x1 - x2 + tcrit1 * sp * np.sqrt((1/n1)+(1/n2))\n",
    "KI_high = x1 - x2 + tcrit2 * sp * np.sqrt((1/n1)+(1/n2))\n",
    "print(KI_high-KI_low)"
   ]
  },
  {
   "cell_type": "code",
   "execution_count": 58,
   "id": "5db1baae",
   "metadata": {
    "code_folding": [
     0
    ]
   },
   "outputs": [
    {
     "name": "stdout",
     "output_type": "stream",
     "text": [
      "stat=40.000, p=0.473\n",
      "Probably the same distribution\n",
      "stat=21.000, p=0.557\n",
      "Probably the same distribution\n",
      "stat=0.571, p=0.450\n",
      "Probably the same distribution\n",
      "stat=0.800, p=0.670\n",
      "Probably the same distribution\n"
     ]
    }
   ],
   "source": [
    "# Nonparametric Statistical Hypothesis Tests\n",
    "from scipy.stats import mannwhitneyu\n",
    "from scipy.stats import wilcoxon\n",
    "from scipy.stats import kruskal\n",
    "from scipy.stats import friedmanchisquare\n",
    "\n",
    "data1 = [0.873, 2.817, 0.121, -0.945, -0.055, -1.436, 0.360, -1.478, -1.637, -1.869]\n",
    "data2 = [1.142, -0.432, -0.938, -0.729, -0.846, -0.157, 0.500, 1.183, -1.075, -0.169]\n",
    "\n",
    "# Mann-Whitney U Test\n",
    "# Tests whether the distributions of two independent samples are equal or not.\n",
    "# Example of the Mann-Whitney U Test\n",
    "stat, p = mannwhitneyu(data1, data2)\n",
    "print('stat=%.3f, p=%.3f' % (stat, p))\n",
    "if p > 0.05:\n",
    "\tprint('Probably the same distribution')\n",
    "else:\n",
    "\tprint('Probably different distributions')\n",
    "    \n",
    "# Wilcoxon Signed-Rank Test\n",
    "# Tests whether the distributions of two paired samples are equal or not.\n",
    "# Example of the Wilcoxon Signed-Rank Test\n",
    "stat, p = wilcoxon(data1, data2)\n",
    "print('stat=%.3f, p=%.3f' % (stat, p))\n",
    "if p > 0.05:\n",
    "\tprint('Probably the same distribution')\n",
    "else:\n",
    "\tprint('Probably different distributions')\n",
    "    \n",
    "# Kruskal-Wallis H Test\n",
    "# Tests whether the distributions of two or more independent samples are equal or not.\n",
    "# Example of the Kruskal-Wallis H Test\n",
    "stat, p = kruskal(data1, data2)\n",
    "print('stat=%.3f, p=%.3f' % (stat, p))\n",
    "if p > 0.05:\n",
    "\tprint('Probably the same distribution')\n",
    "else:\n",
    "\tprint('Probably different distributions')\n",
    "    \n",
    "# Friedman Test\n",
    "# Tests whether the distributions of two or more paired samples are equal or not.\n",
    "# Example of the Friedman Test\n",
    "data1 = [0.873, 2.817, 0.121, -0.945, -0.055, -1.436, 0.360, -1.478, -1.637, -1.869]\n",
    "data2 = [1.142, -0.432, -0.938, -0.729, -0.846, -0.157, 0.500, 1.183, -1.075, -0.169]\n",
    "data3 = [-0.208, 0.696, 0.928, -1.148, -0.213, 0.229, 0.137, 0.269, -0.870, -1.204]\n",
    "stat, p = friedmanchisquare(data1, data2, data3)\n",
    "print('stat=%.3f, p=%.3f' % (stat, p))\n",
    "if p > 0.05:\n",
    "\tprint('Probably the same distribution')\n",
    "else:\n",
    "\tprint('Probably different distributions')"
   ]
  },
  {
   "cell_type": "code",
   "execution_count": 9,
   "id": "523f79e9",
   "metadata": {
    "code_folding": [
     0
    ]
   },
   "outputs": [
    {
     "data": {
      "text/plain": [
       "F_onewayResult(statistic=4.625000000000002, pvalue=0.016336459839780215)"
      ]
     },
     "execution_count": 9,
     "metadata": {},
     "output_type": "execute_result"
    }
   ],
   "source": [
    "# one way ANOVA\n",
    "# Importing library\n",
    "import numpy as np \n",
    "import pandas as pd\n",
    "from scipy.stats import f_oneway\n",
    " \n",
    "# Performance when each of the engine \n",
    "# oil is applied\n",
    "performance1 = [89, 89, 88, 78, 79]\n",
    "performance2 = [93, 92, 94, 89, 88]\n",
    "performance3 = [89, 88, 89, 93, 90]\n",
    "performance4 = [81, 78, 81, 92, 82]\n",
    " \n",
    "# Conduct the one-way ANOVA\n",
    "f_oneway(performance1, performance2, performance3, performance4)"
   ]
  },
  {
   "cell_type": "code",
   "execution_count": 13,
   "id": "21d7b5a8",
   "metadata": {
    "code_folding": [
     0
    ]
   },
   "outputs": [
    {
     "name": "stdout",
     "output_type": "stream",
     "text": [
      "                             df     sum_sq   mean_sq         F    PR(>F)\n",
      "C(Fertilizer)               1.0   0.033333  0.033333  0.012069  0.913305\n",
      "C(Watering)                 1.0   1.027463  1.027463  0.372012  0.546828\n",
      "C(Fertilizer):C(Watering)   1.0   0.577010  0.577010  0.208918  0.651144\n",
      "Residual                   28.0  77.333333  2.761905       NaN       NaN\n"
     ]
    }
   ],
   "source": [
    "# two way ANOVA\n",
    "\n",
    "# Importing libraries \n",
    "import numpy as np \n",
    "import pandas as pd\n",
    "import statsmodels.api as sm \n",
    "from statsmodels.formula.api import ols \n",
    "\n",
    "# Create a dataframe \n",
    "dataframe = pd.DataFrame({'Fertilizer': np.repeat(['daily', 'weekly'], 15), \n",
    "\t\t\t\t\t\t'Watering': np.repeat(['daily', 'weekly'], 15), \n",
    "\t\t\t\t\t\t'height': [14, 16, 15, 15, 16, 13, 12, 11, \n",
    "\t\t\t\t\t\t\t\t\t14, 15, 16, 16, 17, 18, 14, 13, \n",
    "\t\t\t\t\t\t\t\t\t14, 14, 14, 15, 16, 16, 17, 18, \n",
    "\t\t\t\t\t\t\t\t\t14, 13, 14, 14, 14, 15]}) \n",
    "\n",
    "\n",
    "# Performing two-way ANOVA \n",
    "model = ols('height ~ C(Fertilizer) + C(Watering) + C(Fertilizer):C(Watering)', data=dataframe).fit() \n",
    "result = sm.stats.anova_lm(model, type=2)\n",
    "\n",
    "# Print the result\n",
    "print(result)"
   ]
  },
  {
   "cell_type": "code",
   "execution_count": 56,
   "id": "45e048e5",
   "metadata": {
    "code_folding": [
     0
    ]
   },
   "outputs": [
    {
     "data": {
      "image/png": "[encoded data removed]",
      "text/plain": [
       "<Figure size 432x288 with 1 Axes>"
      ]
     },
     "metadata": {
      "needs_background": "light"
     },
     "output_type": "display_data"
    },
    {
     "name": "stderr",
     "output_type": "stream",
     "text": [
      "/tmp/ipykernel_131847/3824436177.py:33: RuntimeWarning: divide by zero encountered in double_scalars\n",
      "  prefactor = 1 / np.sqrt(2 * np.pi * sigma0**2)\n",
      "/tmp/ipykernel_131847/3824436177.py:35: RuntimeWarning: divide by zero encountered in double_scalars\n",
      "  f =  prefactor * np.exp( -(x2 - x1 * np.exp(-mu*dt) - \\\n",
      "/tmp/ipykernel_131847/3824436177.py:35: RuntimeWarning: invalid value encountered in double_scalars\n",
      "  f =  prefactor * np.exp( -(x2 - x1 * np.exp(-mu*dt) - \\\n",
      "/tmp/ipykernel_131847/3824436177.py:30: RuntimeWarning: invalid value encountered in double_scalars\n",
      "  sigma0 = sigma**2 * (1 - np.exp(-2*mu*dt)) / (2 * mu)\n"
     ]
    },
    {
     "name": "stdout",
     "output_type": "stream",
     "text": [
      "Optimization terminated successfully\n",
      "[0.97490756 1.5617896  0.32394711]\n"
     ]
    }
   ],
   "source": [
    "# Ornstein-Uhlenbeck Process\n",
    "import numpy as np\n",
    "import matplotlib.pyplot as plt\n",
    "from scipy.stats import norm\n",
    "from scipy.optimize import minimize\n",
    "\n",
    "np.random.seed(123)\n",
    "\n",
    "theta = 1\n",
    "mu = 1.5\n",
    "sigma = 0.3\n",
    "\n",
    "t = np.linspace(0, 100, 1001)\n",
    "dt = t[1] - t[0]\n",
    "\n",
    "X = np.zeros( t.shape )\n",
    "X[0] = 1.1\n",
    "\n",
    "for i in range( t.size-1 ):\n",
    "    X[i+1] = X[i] + mu * (theta - X[i]) * dt + sigma * np.sqrt(dt) * np.random.normal()\n",
    "    \n",
    "plt.plot(t, X)\n",
    "plt.grid(True)\n",
    "plt.xlabel('t')\n",
    "plt.ylabel('X')\n",
    "plt.show()\n",
    "\n",
    "#  Code our distribution function\n",
    "def OU(x1, x2, dt, theta, mu, sigma):\n",
    "    sigma0 = sigma**2 * (1 - np.exp(-2*mu*dt)) / (2 * mu)\n",
    "    sigma0 = np.sqrt( sigma0 )\n",
    "    \n",
    "    prefactor = 1 / np.sqrt(2 * np.pi * sigma0**2)\n",
    "    \n",
    "    f =  prefactor * np.exp( -(x2 - x1 * np.exp(-mu*dt) - \\\n",
    "                    theta * (1-np.exp(-mu*dt)) )**2 / (2 * sigma0**2) )\n",
    "    \n",
    "    return f\n",
    "\n",
    "#  Calculate the negative of the log likelihood\n",
    "def log_likelihood_OU(p, X, dt):\n",
    "    \n",
    "    theta = p[0]\n",
    "    mu = p[1]\n",
    "    sigma = p[2]\n",
    "    \n",
    "    N = X.size\n",
    "    \n",
    "    f = np.zeros( (N-1, ) )\n",
    "    \n",
    "    for i in range( 1, N ):\n",
    "        x2 = X[i]\n",
    "        x1 = X[i-1]\n",
    "        \n",
    "        f[i-1] = OU(x1, x2, dt, theta, mu, sigma)\n",
    "    \n",
    "    ind = np.where(f == 0)\n",
    "    ind = ind[0]\n",
    "    if ind.size > 0:\n",
    "        f[ind] = 10**-8\n",
    "        \n",
    "    f = np.log(f)\n",
    "    f = np.sum(f)\n",
    "        \n",
    "    return -f\n",
    "\n",
    "#  mu and sigma must be greater than zero.  We use these contraint functions with minimze\n",
    "def constraint1( p ):\n",
    "    return p[1]\n",
    "\n",
    "def constraint2( p ):\n",
    "    return p[2]\n",
    "\n",
    "#  Add constraint function to a dictionary\n",
    "cons = ( {'type':'ineq', 'fun': constraint1},\n",
    "         {'type':'ineq', 'fun': constraint2} )\n",
    "\n",
    "#  Initial guess for our parameters\n",
    "p0 = [1, 1, 1]\n",
    "\n",
    "#  Call minimize\n",
    "res = minimize(log_likelihood_OU, p0, args = (X, dt), constraints=cons)\n",
    "print(res.message)\n",
    "print(res.x)"
   ]
  },
  {
   "cell_type": "code",
   "execution_count": 31,
   "id": "ea7aca77",
   "metadata": {
    "code_folding": [
     0
    ]
   },
   "outputs": [
    {
     "name": "stdout",
     "output_type": "stream",
     "text": [
      "Optimization terminated successfully\n",
      "x= [1.4 1.7]\n"
     ]
    }
   ],
   "source": [
    "# minimize function\n",
    "from scipy.optimize import minimize, rosen, rosen_der\n",
    "\n",
    "fun = lambda x: (x[0] - 1)**2 + (x[1] - 2.5)**2\n",
    "cons = ({'type': 'ineq', 'fun': lambda x:  x[0] - 2 * x[1] + 2},\n",
    "        {'type': 'ineq', 'fun': lambda x: -x[0] - 2 * x[1] + 6},\n",
    "        {'type': 'ineq', 'fun': lambda x: -x[0] + 2 * x[1] + 2})\n",
    "bnds = ((0, None), (0, None))\n",
    "res = minimize(fun, (2, 0), method='SLSQP', bounds=bnds, constraints=cons)\n",
    "print(res.message)\n",
    "print('x=', res.x)"
   ]
  },
  {
   "cell_type": "code",
   "execution_count": 33,
   "id": "32ae6ddf",
   "metadata": {
    "code_folding": [
     0
    ]
   },
   "outputs": [
    {
     "name": "stdout",
     "output_type": "stream",
     "text": [
      "1.0 11\n"
     ]
    }
   ],
   "source": [
    "# root finding\n",
    "from scipy import optimize\n",
    "\n",
    "def f(x):\n",
    "    return (x**3 - 1)  # only one real root at x = 1\n",
    "\n",
    "def fprime(x):\n",
    "    return 3*x**2\n",
    "\n",
    "sol = optimize.root_scalar(f, x0=0.2, fprime=fprime, method='newton')\n",
    "print(sol.root, sol.iterations)"
   ]
  },
  {
   "cell_type": "code",
   "execution_count": 35,
   "id": "362e13a2",
   "metadata": {
    "code_folding": [
     0
    ]
   },
   "outputs": [
    {
     "name": "stdout",
     "output_type": "stream",
     "text": [
      "[0.8411639 0.1588361]\n"
     ]
    }
   ],
   "source": [
    "# root finding of vector function\n",
    "import numpy as np\n",
    "from scipy import optimize\n",
    "\n",
    "def fun(x):\n",
    "    return [x[0]  + 0.5 * (x[0] - x[1])**3 - 1.0, 0.5 * (x[1] - x[0])**3 + x[1]]\n",
    "\n",
    "def jac(x):\n",
    "    return np.array([[1 + 1.5 * (x[0] - x[1])**2,\n",
    "                      -1.5 * (x[0] - x[1])**2],\n",
    "                     [-1.5 * (x[1] - x[0])**2,\n",
    "                      1 + 1.5 * (x[1] - x[0])**2]])\n",
    "\n",
    "\n",
    "sol = optimize.root(fun, [0, 0], jac=jac, method='hybr')\n",
    "print(sol.x)"
   ]
  },
  {
   "cell_type": "code",
   "execution_count": 40,
   "id": "9f39f28b",
   "metadata": {
    "code_folding": [
     0
    ]
   },
   "outputs": [
    {
     "name": "stdout",
     "output_type": "stream",
     "text": [
      "Residual: 5.78575e-06\n"
     ]
    },
    {
     "data": {
      "image/png": "[encoded data removed]",
      "text/plain": [
       "<Figure size 432x288 with 2 Axes>"
      ]
     },
     "metadata": {
      "needs_background": "light"
     },
     "output_type": "display_data"
    }
   ],
   "source": [
    "# root finding of integral-differential equation\n",
    "import numpy as np\n",
    "from scipy import optimize\n",
    "import matplotlib.pyplot as plt\n",
    "\n",
    "# parameters\n",
    "nx, ny = 75, 75\n",
    "hx, hy = 1./(nx-1), 1./(ny-1)\n",
    "\n",
    "# bc\n",
    "P_left, P_right = 0, 0\n",
    "P_top, P_bottom = 1, 0\n",
    "\n",
    "def residual(P):\n",
    "    d2x = np.zeros_like(P)\n",
    "    d2y = np.zeros_like(P)\n",
    "\n",
    "    d2x[1:-1] = (P[2:]   - 2*P[1:-1] + P[:-2])/hx/hx\n",
    "    d2x[0]    = (P[1]    - 2*P[0]    + P_left)/hx/hx\n",
    "    d2x[-1]   = (P_right - 2*P[-1]   + P[-2])/hx/hx\n",
    "\n",
    "    d2y[:,1:-1] = (P[:,2:] - 2*P[:,1:-1] + P[:,:-2])/hy/hy\n",
    "    d2y[:,0]    = (P[:,1]  - 2*P[:,0]    + P_bottom)/hy/hy\n",
    "    d2y[:,-1]   = (P_top   - 2*P[:,-1]   + P[:,-2])/hy/hy\n",
    "\n",
    "    return d2x + d2y - 10*np.cosh(P).mean()**2\n",
    "\n",
    "guess = np.zeros((nx, ny), float)\n",
    "sol = optimize.root(residual, guess, method='krylov')\n",
    "# print(sol.x)\n",
    "print('Residual: %g' % abs(residual(sol.x)).max())\n",
    "\n",
    "x, y = np.mgrid[0:1:(nx*1j), 0:1:(ny*1j)]\n",
    "plt.pcolormesh(x, y, sol.x, shading='gouraud')\n",
    "plt.colorbar()\n",
    "plt.show()"
   ]
  },
  {
   "cell_type": "code",
   "execution_count": null,
   "id": "5da392d9",
   "metadata": {},
   "outputs": [],
   "source": [
    "def inf_num_gen():\n",
    "    num=0\n",
    "    while True:\n",
    "        yield num\n",
    "        num+=1\n",
    "    \n",
    "def pow_gen(num):\n",
    "    for i in inf_num_gen():\n",
    "        yield num**i\n",
    "        \n",
    "gen = pow_gen(3)\n",
    "for _ in range(4):\n",
    "    result=next(gen)\n",
    "print(result)"
   ]
  },
  {
   "cell_type": "code",
   "execution_count": null,
   "id": "6b1612a4",
   "metadata": {},
   "outputs": [],
   "source": []
  }
 ],
 "metadata": {
  "kernelspec": {
   "display_name": "Python 3 (ipykernel)",
   "language": "python",
   "name": "python3"
  },
  "language_info": {
   "codemirror_mode": {
    "name": "ipython",
    "version": 3
   },
   "file_extension": ".py",
   "mimetype": "text/x-python",
   "name": "python",
   "nbconvert_exporter": "python",
   "pygments_lexer": "ipython3",
   "version": "3.9.7"
  },
  "toc": {
   "base_numbering": 1,
   "nav_menu": {},
   "number_sections": true,
   "sideBar": true,
   "skip_h1_title": false,
   "title_cell": "Table of Contents",
   "title_sidebar": "Contents",
   "toc_cell": false,
   "toc_position": {},
   "toc_section_display": true,
   "toc_window_display": false
  },
  "varInspector": {
   "cols": {
    "lenName": 16,
    "lenType": 16,
    "lenVar": 40
   },
   "kernels_config": {
    "python": {
     "delete_cmd_postfix": "",
     "delete_cmd_prefix": "del ",
     "library": "var_list.py",
     "varRefreshCmd": "print(var_dic_list())"
    },
    "r": {
     "delete_cmd_postfix": ") ",
     "delete_cmd_prefix": "rm(",
     "library": "var_list.r",
     "varRefreshCmd": "cat(var_dic_list()) "
    }
   },
   "types_to_exclude": [
    "module",
    "function",
    "builtin_function_or_method",
    "instance",
    "_Feature"
   ],
   "window_display": false
  }
 },
 "nbformat": 4,
 "nbformat_minor": 5
}
